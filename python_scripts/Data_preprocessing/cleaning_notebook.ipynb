{
 "cells": [
  {
   "cell_type": "code",
   "execution_count": 1,
   "metadata": {},
   "outputs": [],
   "source": [
    "import numpy as np\n",
    "import pandas as pd\n",
    "import matplotlib.pyplot as plt\n",
    "import seaborn as sns"
   ]
  },
  {
   "cell_type": "code",
   "execution_count": 2,
   "metadata": {},
   "outputs": [
    {
     "data": {
      "text/html": [
       "<div>\n",
       "<style scoped>\n",
       "    .dataframe tbody tr th:only-of-type {\n",
       "        vertical-align: middle;\n",
       "    }\n",
       "\n",
       "    .dataframe tbody tr th {\n",
       "        vertical-align: top;\n",
       "    }\n",
       "\n",
       "    .dataframe thead th {\n",
       "        text-align: right;\n",
       "    }\n",
       "</style>\n",
       "<table border=\"1\" class=\"dataframe\">\n",
       "  <thead>\n",
       "    <tr style=\"text-align: right;\">\n",
       "      <th></th>\n",
       "      <th>Title</th>\n",
       "      <th>Authors</th>\n",
       "      <th>Publisher</th>\n",
       "      <th>Published Date</th>\n",
       "      <th>Description</th>\n",
       "      <th>Categories</th>\n",
       "      <th>Page Count</th>\n",
       "      <th>Average Rating</th>\n",
       "      <th>Ratings Count</th>\n",
       "      <th>Language</th>\n",
       "    </tr>\n",
       "  </thead>\n",
       "  <tbody>\n",
       "    <tr>\n",
       "      <th>0</th>\n",
       "      <td>Antiques Roadshow Collectibles</td>\n",
       "      <td>Carol Prisant</td>\n",
       "      <td>Workman Publishing</td>\n",
       "      <td>2003-01-01</td>\n",
       "      <td>Offers tips on identifying, collecting, and ca...</td>\n",
       "      <td>Antiques &amp; Collectibles</td>\n",
       "      <td>660.0</td>\n",
       "      <td>NaN</td>\n",
       "      <td>0</td>\n",
       "      <td>en</td>\n",
       "    </tr>\n",
       "    <tr>\n",
       "      <th>1</th>\n",
       "      <td>Dog Antiques and Collectibles</td>\n",
       "      <td>Patricia Robak</td>\n",
       "      <td>Schiffer Military History Book</td>\n",
       "      <td>1999</td>\n",
       "      <td>A remarkable array of accessible and affordabl...</td>\n",
       "      <td>Pets</td>\n",
       "      <td>0.0</td>\n",
       "      <td>NaN</td>\n",
       "      <td>0</td>\n",
       "      <td>en</td>\n",
       "    </tr>\n",
       "    <tr>\n",
       "      <th>2</th>\n",
       "      <td>How to Sell Antiques and Collectibles on eBay....</td>\n",
       "      <td>Dennis L. Prince, Lynn Dralle</td>\n",
       "      <td>McGraw Hill Professional</td>\n",
       "      <td>2004-11-15</td>\n",
       "      <td>Dennis Prince teams up with antique and collec...</td>\n",
       "      <td>Business &amp; Economics</td>\n",
       "      <td>257.0</td>\n",
       "      <td>NaN</td>\n",
       "      <td>0</td>\n",
       "      <td>en</td>\n",
       "    </tr>\n",
       "    <tr>\n",
       "      <th>3</th>\n",
       "      <td>Buying &amp; Selling Antiques &amp; Collectibl</td>\n",
       "      <td>Don Bingham, Joan Bingham</td>\n",
       "      <td>Tuttle Publishing</td>\n",
       "      <td>2012-08-28</td>\n",
       "      <td>Written for both beginners and experienced col...</td>\n",
       "      <td>Antiques &amp; Collectibles</td>\n",
       "      <td>254.0</td>\n",
       "      <td>NaN</td>\n",
       "      <td>0</td>\n",
       "      <td>en</td>\n",
       "    </tr>\n",
       "    <tr>\n",
       "      <th>4</th>\n",
       "      <td>Maloney's Antiques and Collectibles Resource D...</td>\n",
       "      <td>David J. Maloney, Jr.</td>\n",
       "      <td>Antique Trader</td>\n",
       "      <td>1995-08</td>\n",
       "      <td>The singular resource that contains contact in...</td>\n",
       "      <td>Antiques &amp; Collectibles</td>\n",
       "      <td>526.0</td>\n",
       "      <td>NaN</td>\n",
       "      <td>0</td>\n",
       "      <td>en</td>\n",
       "    </tr>\n",
       "  </tbody>\n",
       "</table>\n",
       "</div>"
      ],
      "text/plain": [
       "                                               Title  \\\n",
       "0                     Antiques Roadshow Collectibles   \n",
       "1                      Dog Antiques and Collectibles   \n",
       "2  How to Sell Antiques and Collectibles on eBay....   \n",
       "3             Buying & Selling Antiques & Collectibl   \n",
       "4  Maloney's Antiques and Collectibles Resource D...   \n",
       "\n",
       "                         Authors                       Publisher  \\\n",
       "0                  Carol Prisant              Workman Publishing   \n",
       "1                 Patricia Robak  Schiffer Military History Book   \n",
       "2  Dennis L. Prince, Lynn Dralle        McGraw Hill Professional   \n",
       "3      Don Bingham, Joan Bingham               Tuttle Publishing   \n",
       "4          David J. Maloney, Jr.                  Antique Trader   \n",
       "\n",
       "  Published Date                                        Description  \\\n",
       "0     2003-01-01  Offers tips on identifying, collecting, and ca...   \n",
       "1           1999  A remarkable array of accessible and affordabl...   \n",
       "2     2004-11-15  Dennis Prince teams up with antique and collec...   \n",
       "3     2012-08-28  Written for both beginners and experienced col...   \n",
       "4        1995-08  The singular resource that contains contact in...   \n",
       "\n",
       "                Categories  Page Count  Average Rating  Ratings Count Language  \n",
       "0  Antiques & Collectibles       660.0             NaN              0       en  \n",
       "1                     Pets         0.0             NaN              0       en  \n",
       "2     Business & Economics       257.0             NaN              0       en  \n",
       "3  Antiques & Collectibles       254.0             NaN              0       en  \n",
       "4  Antiques & Collectibles       526.0             NaN              0       en  "
      ]
     },
     "execution_count": 2,
     "metadata": {},
     "output_type": "execute_result"
    }
   ],
   "source": [
    "df=pd.read_csv(\"C:/Users/mvsla/OneDrive/Documents/GitHub/Book_llm/full_book_data_file(google_books_api).csv\")\n",
    "df.head()"
   ]
  },
  {
   "cell_type": "code",
   "execution_count": 3,
   "metadata": {},
   "outputs": [
    {
     "data": {
      "text/plain": [
       "Title                177\n",
       "Authors           105751\n",
       "Publisher         221953\n",
       "Published Date      6912\n",
       "Description       200324\n",
       "Categories         57810\n",
       "Page Count             0\n",
       "Average Rating    358482\n",
       "Ratings Count          0\n",
       "Language               0\n",
       "dtype: int64"
      ]
     },
     "execution_count": 3,
     "metadata": {},
     "output_type": "execute_result"
    }
   ],
   "source": [
    "df.isnull().sum()"
   ]
  },
  {
   "cell_type": "code",
   "execution_count": 4,
   "metadata": {},
   "outputs": [],
   "source": [
    "df = df.loc[:, ~df.columns.str.contains('Unnamed')]"
   ]
  },
  {
   "cell_type": "code",
   "execution_count": 5,
   "metadata": {},
   "outputs": [
    {
     "data": {
      "text/html": [
       "<div>\n",
       "<style scoped>\n",
       "    .dataframe tbody tr th:only-of-type {\n",
       "        vertical-align: middle;\n",
       "    }\n",
       "\n",
       "    .dataframe tbody tr th {\n",
       "        vertical-align: top;\n",
       "    }\n",
       "\n",
       "    .dataframe thead th {\n",
       "        text-align: right;\n",
       "    }\n",
       "</style>\n",
       "<table border=\"1\" class=\"dataframe\">\n",
       "  <thead>\n",
       "    <tr style=\"text-align: right;\">\n",
       "      <th></th>\n",
       "      <th>Title</th>\n",
       "      <th>Authors</th>\n",
       "      <th>Publisher</th>\n",
       "      <th>Published Date</th>\n",
       "      <th>Description</th>\n",
       "      <th>Categories</th>\n",
       "      <th>Page Count</th>\n",
       "      <th>Average Rating</th>\n",
       "      <th>Ratings Count</th>\n",
       "      <th>Language</th>\n",
       "    </tr>\n",
       "  </thead>\n",
       "  <tbody>\n",
       "    <tr>\n",
       "      <th>0</th>\n",
       "      <td>Antiques Roadshow Collectibles</td>\n",
       "      <td>Carol Prisant</td>\n",
       "      <td>Workman Publishing</td>\n",
       "      <td>2003-01-01</td>\n",
       "      <td>Offers tips on identifying, collecting, and ca...</td>\n",
       "      <td>Antiques &amp; Collectibles</td>\n",
       "      <td>660.0</td>\n",
       "      <td>NaN</td>\n",
       "      <td>0</td>\n",
       "      <td>en</td>\n",
       "    </tr>\n",
       "    <tr>\n",
       "      <th>1</th>\n",
       "      <td>Dog Antiques and Collectibles</td>\n",
       "      <td>Patricia Robak</td>\n",
       "      <td>Schiffer Military History Book</td>\n",
       "      <td>1999</td>\n",
       "      <td>A remarkable array of accessible and affordabl...</td>\n",
       "      <td>Pets</td>\n",
       "      <td>0.0</td>\n",
       "      <td>NaN</td>\n",
       "      <td>0</td>\n",
       "      <td>en</td>\n",
       "    </tr>\n",
       "    <tr>\n",
       "      <th>2</th>\n",
       "      <td>How to Sell Antiques and Collectibles on eBay....</td>\n",
       "      <td>Dennis L. Prince, Lynn Dralle</td>\n",
       "      <td>McGraw Hill Professional</td>\n",
       "      <td>2004-11-15</td>\n",
       "      <td>Dennis Prince teams up with antique and collec...</td>\n",
       "      <td>Business &amp; Economics</td>\n",
       "      <td>257.0</td>\n",
       "      <td>NaN</td>\n",
       "      <td>0</td>\n",
       "      <td>en</td>\n",
       "    </tr>\n",
       "    <tr>\n",
       "      <th>3</th>\n",
       "      <td>Buying &amp; Selling Antiques &amp; Collectibl</td>\n",
       "      <td>Don Bingham, Joan Bingham</td>\n",
       "      <td>Tuttle Publishing</td>\n",
       "      <td>2012-08-28</td>\n",
       "      <td>Written for both beginners and experienced col...</td>\n",
       "      <td>Antiques &amp; Collectibles</td>\n",
       "      <td>254.0</td>\n",
       "      <td>NaN</td>\n",
       "      <td>0</td>\n",
       "      <td>en</td>\n",
       "    </tr>\n",
       "    <tr>\n",
       "      <th>4</th>\n",
       "      <td>Maloney's Antiques and Collectibles Resource D...</td>\n",
       "      <td>David J. Maloney, Jr.</td>\n",
       "      <td>Antique Trader</td>\n",
       "      <td>1995-08</td>\n",
       "      <td>The singular resource that contains contact in...</td>\n",
       "      <td>Antiques &amp; Collectibles</td>\n",
       "      <td>526.0</td>\n",
       "      <td>NaN</td>\n",
       "      <td>0</td>\n",
       "      <td>en</td>\n",
       "    </tr>\n",
       "    <tr>\n",
       "      <th>...</th>\n",
       "      <td>...</td>\n",
       "      <td>...</td>\n",
       "      <td>...</td>\n",
       "      <td>...</td>\n",
       "      <td>...</td>\n",
       "      <td>...</td>\n",
       "      <td>...</td>\n",
       "      <td>...</td>\n",
       "      <td>...</td>\n",
       "      <td>...</td>\n",
       "    </tr>\n",
       "    <tr>\n",
       "      <th>417406</th>\n",
       "      <td>Pure</td>\n",
       "      <td>Julianna Baggott</td>\n",
       "      <td>Hachette UK</td>\n",
       "      <td>2012-02-02</td>\n",
       "      <td>We know you are here, our brothers and sisters...</td>\n",
       "      <td>Fiction</td>\n",
       "      <td>315.0</td>\n",
       "      <td>4.5</td>\n",
       "      <td>3</td>\n",
       "      <td>en</td>\n",
       "    </tr>\n",
       "    <tr>\n",
       "      <th>417407</th>\n",
       "      <td>The Keeper: Vega Jane 2</td>\n",
       "      <td>David Baldacci</td>\n",
       "      <td>Macmillan Children's Books</td>\n",
       "      <td>2015-09-01</td>\n",
       "      <td>Vega Jane was always told no one could leave t...</td>\n",
       "      <td>Juvenile Fiction</td>\n",
       "      <td>390.0</td>\n",
       "      <td>NaN</td>\n",
       "      <td>0</td>\n",
       "      <td>en</td>\n",
       "    </tr>\n",
       "    <tr>\n",
       "      <th>417408</th>\n",
       "      <td>The Keeper</td>\n",
       "      <td>David Baldacci</td>\n",
       "      <td>Pan Macmillan</td>\n",
       "      <td>2015</td>\n",
       "      <td>Vega Jane was always told no one could leave t...</td>\n",
       "      <td>Juvenile Fiction</td>\n",
       "      <td>481.0</td>\n",
       "      <td>NaN</td>\n",
       "      <td>0</td>\n",
       "      <td>en</td>\n",
       "    </tr>\n",
       "    <tr>\n",
       "      <th>417409</th>\n",
       "      <td>(Don't) Call Me Crazy</td>\n",
       "      <td>Kelly Jensen</td>\n",
       "      <td>Algonquin Books</td>\n",
       "      <td>2018-10-02</td>\n",
       "      <td>Who’s Crazy? What does it mean to be crazy? Is...</td>\n",
       "      <td>Young Adult Nonfiction</td>\n",
       "      <td>241.0</td>\n",
       "      <td>NaN</td>\n",
       "      <td>0</td>\n",
       "      <td>en</td>\n",
       "    </tr>\n",
       "    <tr>\n",
       "      <th>417410</th>\n",
       "      <td>Kingdom of the Golden Dragon</td>\n",
       "      <td>Isabel Allende</td>\n",
       "      <td>HarperCollins</td>\n",
       "      <td>2021-01-05</td>\n",
       "      <td>Alexander Cold, his grandmother Kate, and his ...</td>\n",
       "      <td>Young Adult Fiction</td>\n",
       "      <td>328.0</td>\n",
       "      <td>NaN</td>\n",
       "      <td>0</td>\n",
       "      <td>en</td>\n",
       "    </tr>\n",
       "  </tbody>\n",
       "</table>\n",
       "<p>417411 rows × 10 columns</p>\n",
       "</div>"
      ],
      "text/plain": [
       "                                                    Title  \\\n",
       "0                          Antiques Roadshow Collectibles   \n",
       "1                           Dog Antiques and Collectibles   \n",
       "2       How to Sell Antiques and Collectibles on eBay....   \n",
       "3                  Buying & Selling Antiques & Collectibl   \n",
       "4       Maloney's Antiques and Collectibles Resource D...   \n",
       "...                                                   ...   \n",
       "417406                                               Pure   \n",
       "417407                            The Keeper: Vega Jane 2   \n",
       "417408                                         The Keeper   \n",
       "417409                              (Don't) Call Me Crazy   \n",
       "417410                       Kingdom of the Golden Dragon   \n",
       "\n",
       "                              Authors                       Publisher  \\\n",
       "0                       Carol Prisant              Workman Publishing   \n",
       "1                      Patricia Robak  Schiffer Military History Book   \n",
       "2       Dennis L. Prince, Lynn Dralle        McGraw Hill Professional   \n",
       "3           Don Bingham, Joan Bingham               Tuttle Publishing   \n",
       "4               David J. Maloney, Jr.                  Antique Trader   \n",
       "...                               ...                             ...   \n",
       "417406               Julianna Baggott                     Hachette UK   \n",
       "417407                 David Baldacci      Macmillan Children's Books   \n",
       "417408                 David Baldacci                   Pan Macmillan   \n",
       "417409                   Kelly Jensen                 Algonquin Books   \n",
       "417410                 Isabel Allende                   HarperCollins   \n",
       "\n",
       "       Published Date                                        Description  \\\n",
       "0          2003-01-01  Offers tips on identifying, collecting, and ca...   \n",
       "1                1999  A remarkable array of accessible and affordabl...   \n",
       "2          2004-11-15  Dennis Prince teams up with antique and collec...   \n",
       "3          2012-08-28  Written for both beginners and experienced col...   \n",
       "4             1995-08  The singular resource that contains contact in...   \n",
       "...               ...                                                ...   \n",
       "417406     2012-02-02  We know you are here, our brothers and sisters...   \n",
       "417407     2015-09-01  Vega Jane was always told no one could leave t...   \n",
       "417408           2015  Vega Jane was always told no one could leave t...   \n",
       "417409     2018-10-02  Who’s Crazy? What does it mean to be crazy? Is...   \n",
       "417410     2021-01-05  Alexander Cold, his grandmother Kate, and his ...   \n",
       "\n",
       "                     Categories  Page Count  Average Rating  Ratings Count  \\\n",
       "0       Antiques & Collectibles       660.0             NaN              0   \n",
       "1                          Pets         0.0             NaN              0   \n",
       "2          Business & Economics       257.0             NaN              0   \n",
       "3       Antiques & Collectibles       254.0             NaN              0   \n",
       "4       Antiques & Collectibles       526.0             NaN              0   \n",
       "...                         ...         ...             ...            ...   \n",
       "417406                  Fiction       315.0             4.5              3   \n",
       "417407         Juvenile Fiction       390.0             NaN              0   \n",
       "417408         Juvenile Fiction       481.0             NaN              0   \n",
       "417409   Young Adult Nonfiction       241.0             NaN              0   \n",
       "417410      Young Adult Fiction       328.0             NaN              0   \n",
       "\n",
       "       Language  \n",
       "0            en  \n",
       "1            en  \n",
       "2            en  \n",
       "3            en  \n",
       "4            en  \n",
       "...         ...  \n",
       "417406       en  \n",
       "417407       en  \n",
       "417408       en  \n",
       "417409       en  \n",
       "417410       en  \n",
       "\n",
       "[417411 rows x 10 columns]"
      ]
     },
     "execution_count": 5,
     "metadata": {},
     "output_type": "execute_result"
    }
   ],
   "source": [
    "df"
   ]
  },
  {
   "cell_type": "code",
   "execution_count": 6,
   "metadata": {},
   "outputs": [],
   "source": [
    "df1 = df.dropna(subset=['Title'])"
   ]
  },
  {
   "cell_type": "code",
   "execution_count": 7,
   "metadata": {},
   "outputs": [
    {
     "data": {
      "text/plain": [
       "Title                  0\n",
       "Authors           105578\n",
       "Publisher         221943\n",
       "Published Date      6740\n",
       "Description       200152\n",
       "Categories         57634\n",
       "Page Count             0\n",
       "Average Rating    358338\n",
       "Ratings Count          0\n",
       "Language               0\n",
       "dtype: int64"
      ]
     },
     "execution_count": 7,
     "metadata": {},
     "output_type": "execute_result"
    }
   ],
   "source": [
    "df1.isnull().sum()"
   ]
  },
  {
   "cell_type": "code",
   "execution_count": 8,
   "metadata": {},
   "outputs": [
    {
     "name": "stderr",
     "output_type": "stream",
     "text": [
      "C:\\Users\\mvsla\\AppData\\Local\\Temp\\ipykernel_21112\\2941120972.py:1: SettingWithCopyWarning: \n",
      "A value is trying to be set on a copy of a slice from a DataFrame.\n",
      "Try using .loc[row_indexer,col_indexer] = value instead\n",
      "\n",
      "See the caveats in the documentation: https://pandas.pydata.org/pandas-docs/stable/user_guide/indexing.html#returning-a-view-versus-a-copy\n",
      "  df1['Authors']=df1['Authors'].fillna('Unknown Author')\n"
     ]
    }
   ],
   "source": [
    "df1['Authors']=df1['Authors'].fillna('Unknown Author')"
   ]
  },
  {
   "cell_type": "code",
   "execution_count": 9,
   "metadata": {},
   "outputs": [
    {
     "name": "stderr",
     "output_type": "stream",
     "text": [
      "C:\\Users\\mvsla\\AppData\\Local\\Temp\\ipykernel_21112\\1983988629.py:1: SettingWithCopyWarning: \n",
      "A value is trying to be set on a copy of a slice from a DataFrame.\n",
      "Try using .loc[row_indexer,col_indexer] = value instead\n",
      "\n",
      "See the caveats in the documentation: https://pandas.pydata.org/pandas-docs/stable/user_guide/indexing.html#returning-a-view-versus-a-copy\n",
      "  df1['Publisher'] = df1['Publisher'].fillna(\"Unknown Publisher\")\n"
     ]
    }
   ],
   "source": [
    "df1['Publisher'] = df1['Publisher'].fillna(\"Unknown Publisher\")\n"
   ]
  },
  {
   "cell_type": "code",
   "execution_count": 10,
   "metadata": {},
   "outputs": [
    {
     "data": {
      "text/plain": [
       "Title                  0\n",
       "Authors                0\n",
       "Publisher              0\n",
       "Published Date      6740\n",
       "Description       200152\n",
       "Categories         57634\n",
       "Page Count             0\n",
       "Average Rating    358338\n",
       "Ratings Count          0\n",
       "Language               0\n",
       "dtype: int64"
      ]
     },
     "execution_count": 10,
     "metadata": {},
     "output_type": "execute_result"
    }
   ],
   "source": [
    "df1.isnull().sum()"
   ]
  },
  {
   "cell_type": "code",
   "execution_count": 11,
   "metadata": {},
   "outputs": [
    {
     "name": "stderr",
     "output_type": "stream",
     "text": [
      "C:\\Users\\mvsla\\AppData\\Local\\Temp\\ipykernel_21112\\3747831269.py:1: SettingWithCopyWarning: \n",
      "A value is trying to be set on a copy of a slice from a DataFrame.\n",
      "Try using .loc[row_indexer,col_indexer] = value instead\n",
      "\n",
      "See the caveats in the documentation: https://pandas.pydata.org/pandas-docs/stable/user_guide/indexing.html#returning-a-view-versus-a-copy\n",
      "  df1['Published Date'] = df1['Published Date'].fillna(\"Unknown Date\")\n"
     ]
    }
   ],
   "source": [
    "df1['Published Date'] = df1['Published Date'].fillna(\"Unknown Date\")"
   ]
  },
  {
   "cell_type": "code",
   "execution_count": 12,
   "metadata": {},
   "outputs": [
    {
     "name": "stderr",
     "output_type": "stream",
     "text": [
      "C:\\Users\\mvsla\\AppData\\Local\\Temp\\ipykernel_21112\\3772153559.py:1: SettingWithCopyWarning: \n",
      "A value is trying to be set on a copy of a slice from a DataFrame.\n",
      "Try using .loc[row_indexer,col_indexer] = value instead\n",
      "\n",
      "See the caveats in the documentation: https://pandas.pydata.org/pandas-docs/stable/user_guide/indexing.html#returning-a-view-versus-a-copy\n",
      "  df1['Description'] = df1['Description'].fillna(\"No Description Available\")\n"
     ]
    }
   ],
   "source": [
    "df1['Description'] = df1['Description'].fillna(\"No Description Available\")"
   ]
  },
  {
   "cell_type": "code",
   "execution_count": 13,
   "metadata": {},
   "outputs": [
    {
     "name": "stderr",
     "output_type": "stream",
     "text": [
      "C:\\Users\\mvsla\\AppData\\Local\\Temp\\ipykernel_21112\\2960699455.py:1: SettingWithCopyWarning: \n",
      "A value is trying to be set on a copy of a slice from a DataFrame.\n",
      "Try using .loc[row_indexer,col_indexer] = value instead\n",
      "\n",
      "See the caveats in the documentation: https://pandas.pydata.org/pandas-docs/stable/user_guide/indexing.html#returning-a-view-versus-a-copy\n",
      "  df1['Categories'] = df1['Categories'].fillna(\"Unknown Genre\")\n"
     ]
    }
   ],
   "source": [
    "df1['Categories'] = df1['Categories'].fillna(\"Unknown Genre\")"
   ]
  },
  {
   "cell_type": "code",
   "execution_count": 14,
   "metadata": {},
   "outputs": [
    {
     "name": "stderr",
     "output_type": "stream",
     "text": [
      "C:\\Users\\mvsla\\AppData\\Local\\Temp\\ipykernel_21112\\363311651.py:1: SettingWithCopyWarning: \n",
      "A value is trying to be set on a copy of a slice from a DataFrame.\n",
      "Try using .loc[row_indexer,col_indexer] = value instead\n",
      "\n",
      "See the caveats in the documentation: https://pandas.pydata.org/pandas-docs/stable/user_guide/indexing.html#returning-a-view-versus-a-copy\n",
      "  df1['Ratings Count'] = df1['Ratings Count'].fillna(0)\n"
     ]
    }
   ],
   "source": [
    "df1['Ratings Count'] = df1['Ratings Count'].fillna(0)"
   ]
  },
  {
   "cell_type": "code",
   "execution_count": 15,
   "metadata": {},
   "outputs": [
    {
     "name": "stderr",
     "output_type": "stream",
     "text": [
      "C:\\Users\\mvsla\\AppData\\Local\\Temp\\ipykernel_21112\\2061735198.py:1: SettingWithCopyWarning: \n",
      "A value is trying to be set on a copy of a slice from a DataFrame.\n",
      "Try using .loc[row_indexer,col_indexer] = value instead\n",
      "\n",
      "See the caveats in the documentation: https://pandas.pydata.org/pandas-docs/stable/user_guide/indexing.html#returning-a-view-versus-a-copy\n",
      "  df1['Average Rating'] = pd.to_numeric(df1['Average Rating'], errors='coerce')\n"
     ]
    }
   ],
   "source": [
    "df1['Average Rating'] = pd.to_numeric(df1['Average Rating'], errors='coerce')"
   ]
  },
  {
   "cell_type": "code",
   "execution_count": 16,
   "metadata": {},
   "outputs": [
    {
     "name": "stderr",
     "output_type": "stream",
     "text": [
      "C:\\Users\\mvsla\\AppData\\Local\\Temp\\ipykernel_21112\\3479639475.py:1: SettingWithCopyWarning: \n",
      "A value is trying to be set on a copy of a slice from a DataFrame.\n",
      "Try using .loc[row_indexer,col_indexer] = value instead\n",
      "\n",
      "See the caveats in the documentation: https://pandas.pydata.org/pandas-docs/stable/user_guide/indexing.html#returning-a-view-versus-a-copy\n",
      "  df1['Average Rating'] = df1['Average Rating'].fillna(df1['Average Rating'].mean())\n"
     ]
    }
   ],
   "source": [
    "df1['Average Rating'] = df1['Average Rating'].fillna(df1['Average Rating'].mean())"
   ]
  },
  {
   "cell_type": "code",
   "execution_count": 17,
   "metadata": {},
   "outputs": [
    {
     "name": "stderr",
     "output_type": "stream",
     "text": [
      "C:\\Users\\mvsla\\AppData\\Local\\Temp\\ipykernel_21112\\3457331259.py:1: SettingWithCopyWarning: \n",
      "A value is trying to be set on a copy of a slice from a DataFrame.\n",
      "Try using .loc[row_indexer,col_indexer] = value instead\n",
      "\n",
      "See the caveats in the documentation: https://pandas.pydata.org/pandas-docs/stable/user_guide/indexing.html#returning-a-view-versus-a-copy\n",
      "  df1['Language'] = df1['Language'].fillna('en')\n"
     ]
    }
   ],
   "source": [
    "df1['Language'] = df1['Language'].fillna('en')"
   ]
  },
  {
   "cell_type": "code",
   "execution_count": 18,
   "metadata": {},
   "outputs": [
    {
     "name": "stderr",
     "output_type": "stream",
     "text": [
      "C:\\Users\\mvsla\\AppData\\Local\\Temp\\ipykernel_21112\\2050940486.py:1: SettingWithCopyWarning: \n",
      "A value is trying to be set on a copy of a slice from a DataFrame.\n",
      "Try using .loc[row_indexer,col_indexer] = value instead\n",
      "\n",
      "See the caveats in the documentation: https://pandas.pydata.org/pandas-docs/stable/user_guide/indexing.html#returning-a-view-versus-a-copy\n",
      "  df1['Page Count'] = df1['Page Count'].fillna(0) # Fill with 0 for Page Count\n"
     ]
    }
   ],
   "source": [
    "df1['Page Count'] = df1['Page Count'].fillna(0) # Fill with 0 for Page Count"
   ]
  },
  {
   "cell_type": "code",
   "execution_count": 19,
   "metadata": {},
   "outputs": [
    {
     "data": {
      "text/plain": [
       "Title             0\n",
       "Authors           0\n",
       "Publisher         0\n",
       "Published Date    0\n",
       "Description       0\n",
       "Categories        0\n",
       "Page Count        0\n",
       "Average Rating    0\n",
       "Ratings Count     0\n",
       "Language          0\n",
       "dtype: int64"
      ]
     },
     "execution_count": 19,
     "metadata": {},
     "output_type": "execute_result"
    }
   ],
   "source": [
    "df1.isnull().sum()"
   ]
  },
  {
   "cell_type": "code",
   "execution_count": 20,
   "metadata": {},
   "outputs": [
    {
     "data": {
      "text/plain": [
       "(417234, 10)"
      ]
     },
     "execution_count": 20,
     "metadata": {},
     "output_type": "execute_result"
    }
   ],
   "source": [
    "df1.shape"
   ]
  },
  {
   "cell_type": "code",
   "execution_count": 21,
   "metadata": {},
   "outputs": [
    {
     "name": "stderr",
     "output_type": "stream",
     "text": [
      "C:\\Users\\mvsla\\AppData\\Local\\Temp\\ipykernel_21112\\4156330626.py:1: SettingWithCopyWarning: \n",
      "A value is trying to be set on a copy of a slice from a DataFrame\n",
      "\n",
      "See the caveats in the documentation: https://pandas.pydata.org/pandas-docs/stable/user_guide/indexing.html#returning-a-view-versus-a-copy\n",
      "  df1.drop_duplicates(inplace=True)\n"
     ]
    }
   ],
   "source": [
    "df1.drop_duplicates(inplace=True)"
   ]
  },
  {
   "cell_type": "code",
   "execution_count": 22,
   "metadata": {},
   "outputs": [
    {
     "data": {
      "text/plain": [
       "(296704, 10)"
      ]
     },
     "execution_count": 22,
     "metadata": {},
     "output_type": "execute_result"
    }
   ],
   "source": [
    "df1.shape"
   ]
  },
  {
   "cell_type": "code",
   "execution_count": 24,
   "metadata": {},
   "outputs": [
    {
     "data": {
      "text/plain": [
       "Title              object\n",
       "Authors            object\n",
       "Publisher          object\n",
       "Published Date     object\n",
       "Description        object\n",
       "Categories         object\n",
       "Page Count        float64\n",
       "Average Rating    float64\n",
       "Ratings Count       int64\n",
       "Language           object\n",
       "dtype: object"
      ]
     },
     "execution_count": 24,
     "metadata": {},
     "output_type": "execute_result"
    }
   ],
   "source": [
    "df1.dtypes"
   ]
  },
  {
   "cell_type": "code",
   "execution_count": 23,
   "metadata": {},
   "outputs": [
    {
     "name": "stdout",
     "output_type": "stream",
     "text": [
      "Column: Page Count\n",
      "[ 660.    0.  257. ... 3004. 3054. 2037.]\n",
      "Column: Average Rating\n",
      "[       nan 5.         4.         1.         2.5        2.\n",
      " 4.5        3.         3.5        1.5        4.19967638]\n",
      "Column: Ratings Count\n",
      "[   0    2    1    4  989    3    8   16    6   14    5   12   33    7\n",
      "  445   20   13   23   22   11   15    9   18   17   19   71   10   60\n",
      "   50   35  182   62   25   66  149   49   38   44   40   54   32   83\n",
      "  328  117   24   64  109   47   97   43  130   26   91   31   98   42\n",
      "  321   67   28   21   94   77   37   30   53   36  173   34  758  226\n",
      "   48   27  166 3198 2563  211   55   29  158   39   52   86  139  687\n",
      "   81  411   46   70  129   45  762   82  224  304  116   68  322   76\n",
      "   63   93   84  864  300  188   99  152  238  298  221  157  681  187\n",
      "  223  755  372  142  176   61]\n"
     ]
    }
   ],
   "source": [
    "for col in ['Page Count', 'Average Rating', 'Ratings Count']:\n",
    "    print(f\"Column: {col}\")\n",
    "    print(df[col].unique())\n"
   ]
  },
  {
   "cell_type": "code",
   "execution_count": 29,
   "metadata": {},
   "outputs": [],
   "source": [
    "df1.to_csv('google_books_dataset.csv')"
   ]
  },
  {
   "cell_type": "code",
   "execution_count": 1,
   "metadata": {},
   "outputs": [],
   "source": [
    "import pandas as pd\n",
    "import re"
   ]
  },
  {
   "cell_type": "code",
   "execution_count": 5,
   "metadata": {},
   "outputs": [],
   "source": [
    "df1=pd.read_csv(\"C:/Users/mvsla/OneDrive/Documents/GitHub/Book_llm/google_books_dataset.csv\")"
   ]
  },
  {
   "cell_type": "code",
   "execution_count": 6,
   "metadata": {},
   "outputs": [
    {
     "data": {
      "text/html": [
       "<div>\n",
       "<style scoped>\n",
       "    .dataframe tbody tr th:only-of-type {\n",
       "        vertical-align: middle;\n",
       "    }\n",
       "\n",
       "    .dataframe tbody tr th {\n",
       "        vertical-align: top;\n",
       "    }\n",
       "\n",
       "    .dataframe thead th {\n",
       "        text-align: right;\n",
       "    }\n",
       "</style>\n",
       "<table border=\"1\" class=\"dataframe\">\n",
       "  <thead>\n",
       "    <tr style=\"text-align: right;\">\n",
       "      <th></th>\n",
       "      <th>Unnamed: 0</th>\n",
       "      <th>Title</th>\n",
       "      <th>Authors</th>\n",
       "      <th>Publisher</th>\n",
       "      <th>Published Date</th>\n",
       "      <th>Description</th>\n",
       "      <th>Categories</th>\n",
       "      <th>Page Count</th>\n",
       "      <th>Average Rating</th>\n",
       "      <th>Ratings Count</th>\n",
       "      <th>Language</th>\n",
       "    </tr>\n",
       "  </thead>\n",
       "  <tbody>\n",
       "    <tr>\n",
       "      <th>0</th>\n",
       "      <td>0</td>\n",
       "      <td>Antiques Roadshow Collectibles</td>\n",
       "      <td>Carol Prisant</td>\n",
       "      <td>Workman Publishing</td>\n",
       "      <td>2003-01-01</td>\n",
       "      <td>Offers tips on identifying, collecting, and ca...</td>\n",
       "      <td>Antiques &amp; Collectibles</td>\n",
       "      <td>660.0</td>\n",
       "      <td>4.188379</td>\n",
       "      <td>0</td>\n",
       "      <td>en</td>\n",
       "    </tr>\n",
       "    <tr>\n",
       "      <th>1</th>\n",
       "      <td>1</td>\n",
       "      <td>Dog Antiques and Collectibles</td>\n",
       "      <td>Patricia Robak</td>\n",
       "      <td>Schiffer Military History Book</td>\n",
       "      <td>1999</td>\n",
       "      <td>A remarkable array of accessible and affordabl...</td>\n",
       "      <td>Pets</td>\n",
       "      <td>0.0</td>\n",
       "      <td>4.188379</td>\n",
       "      <td>0</td>\n",
       "      <td>en</td>\n",
       "    </tr>\n",
       "    <tr>\n",
       "      <th>2</th>\n",
       "      <td>2</td>\n",
       "      <td>How to Sell Antiques and Collectibles on eBay....</td>\n",
       "      <td>Dennis L. Prince, Lynn Dralle</td>\n",
       "      <td>McGraw Hill Professional</td>\n",
       "      <td>2004-11-15</td>\n",
       "      <td>Dennis Prince teams up with antique and collec...</td>\n",
       "      <td>Business &amp; Economics</td>\n",
       "      <td>257.0</td>\n",
       "      <td>4.188379</td>\n",
       "      <td>0</td>\n",
       "      <td>en</td>\n",
       "    </tr>\n",
       "    <tr>\n",
       "      <th>3</th>\n",
       "      <td>3</td>\n",
       "      <td>Buying &amp; Selling Antiques &amp; Collectibl</td>\n",
       "      <td>Don Bingham, Joan Bingham</td>\n",
       "      <td>Tuttle Publishing</td>\n",
       "      <td>2012-08-28</td>\n",
       "      <td>Written for both beginners and experienced col...</td>\n",
       "      <td>Antiques &amp; Collectibles</td>\n",
       "      <td>254.0</td>\n",
       "      <td>4.188379</td>\n",
       "      <td>0</td>\n",
       "      <td>en</td>\n",
       "    </tr>\n",
       "    <tr>\n",
       "      <th>4</th>\n",
       "      <td>4</td>\n",
       "      <td>Maloney's Antiques and Collectibles Resource D...</td>\n",
       "      <td>David J. Maloney, Jr.</td>\n",
       "      <td>Antique Trader</td>\n",
       "      <td>1995-08</td>\n",
       "      <td>The singular resource that contains contact in...</td>\n",
       "      <td>Antiques &amp; Collectibles</td>\n",
       "      <td>526.0</td>\n",
       "      <td>4.188379</td>\n",
       "      <td>0</td>\n",
       "      <td>en</td>\n",
       "    </tr>\n",
       "    <tr>\n",
       "      <th>...</th>\n",
       "      <td>...</td>\n",
       "      <td>...</td>\n",
       "      <td>...</td>\n",
       "      <td>...</td>\n",
       "      <td>...</td>\n",
       "      <td>...</td>\n",
       "      <td>...</td>\n",
       "      <td>...</td>\n",
       "      <td>...</td>\n",
       "      <td>...</td>\n",
       "      <td>...</td>\n",
       "    </tr>\n",
       "    <tr>\n",
       "      <th>296699</th>\n",
       "      <td>417405</td>\n",
       "      <td>When Dimple Met Rishi</td>\n",
       "      <td>Sandhya Menon</td>\n",
       "      <td>Simon and Schuster</td>\n",
       "      <td>2017-05-30</td>\n",
       "      <td>The inspiration for the Netflix original serie...</td>\n",
       "      <td>Young Adult Fiction</td>\n",
       "      <td>432.0</td>\n",
       "      <td>4.188379</td>\n",
       "      <td>0</td>\n",
       "      <td>en</td>\n",
       "    </tr>\n",
       "    <tr>\n",
       "      <th>296700</th>\n",
       "      <td>417406</td>\n",
       "      <td>Pure</td>\n",
       "      <td>Julianna Baggott</td>\n",
       "      <td>Hachette UK</td>\n",
       "      <td>2012-02-02</td>\n",
       "      <td>We know you are here, our brothers and sisters...</td>\n",
       "      <td>Fiction</td>\n",
       "      <td>315.0</td>\n",
       "      <td>4.500000</td>\n",
       "      <td>3</td>\n",
       "      <td>en</td>\n",
       "    </tr>\n",
       "    <tr>\n",
       "      <th>296701</th>\n",
       "      <td>417407</td>\n",
       "      <td>The Keeper: Vega Jane 2</td>\n",
       "      <td>David Baldacci</td>\n",
       "      <td>Macmillan Children's Books</td>\n",
       "      <td>2015-09-01</td>\n",
       "      <td>Vega Jane was always told no one could leave t...</td>\n",
       "      <td>Juvenile Fiction</td>\n",
       "      <td>390.0</td>\n",
       "      <td>4.188379</td>\n",
       "      <td>0</td>\n",
       "      <td>en</td>\n",
       "    </tr>\n",
       "    <tr>\n",
       "      <th>296702</th>\n",
       "      <td>417408</td>\n",
       "      <td>The Keeper</td>\n",
       "      <td>David Baldacci</td>\n",
       "      <td>Pan Macmillan</td>\n",
       "      <td>2015</td>\n",
       "      <td>Vega Jane was always told no one could leave t...</td>\n",
       "      <td>Juvenile Fiction</td>\n",
       "      <td>481.0</td>\n",
       "      <td>4.188379</td>\n",
       "      <td>0</td>\n",
       "      <td>en</td>\n",
       "    </tr>\n",
       "    <tr>\n",
       "      <th>296703</th>\n",
       "      <td>417410</td>\n",
       "      <td>Kingdom of the Golden Dragon</td>\n",
       "      <td>Isabel Allende</td>\n",
       "      <td>HarperCollins</td>\n",
       "      <td>2021-01-05</td>\n",
       "      <td>Alexander Cold, his grandmother Kate, and his ...</td>\n",
       "      <td>Young Adult Fiction</td>\n",
       "      <td>328.0</td>\n",
       "      <td>4.188379</td>\n",
       "      <td>0</td>\n",
       "      <td>en</td>\n",
       "    </tr>\n",
       "  </tbody>\n",
       "</table>\n",
       "<p>296704 rows × 11 columns</p>\n",
       "</div>"
      ],
      "text/plain": [
       "        Unnamed: 0                                              Title  \\\n",
       "0                0                     Antiques Roadshow Collectibles   \n",
       "1                1                      Dog Antiques and Collectibles   \n",
       "2                2  How to Sell Antiques and Collectibles on eBay....   \n",
       "3                3             Buying & Selling Antiques & Collectibl   \n",
       "4                4  Maloney's Antiques and Collectibles Resource D...   \n",
       "...            ...                                                ...   \n",
       "296699      417405                              When Dimple Met Rishi   \n",
       "296700      417406                                               Pure   \n",
       "296701      417407                            The Keeper: Vega Jane 2   \n",
       "296702      417408                                         The Keeper   \n",
       "296703      417410                       Kingdom of the Golden Dragon   \n",
       "\n",
       "                              Authors                       Publisher  \\\n",
       "0                       Carol Prisant              Workman Publishing   \n",
       "1                      Patricia Robak  Schiffer Military History Book   \n",
       "2       Dennis L. Prince, Lynn Dralle        McGraw Hill Professional   \n",
       "3           Don Bingham, Joan Bingham               Tuttle Publishing   \n",
       "4               David J. Maloney, Jr.                  Antique Trader   \n",
       "...                               ...                             ...   \n",
       "296699                  Sandhya Menon              Simon and Schuster   \n",
       "296700               Julianna Baggott                     Hachette UK   \n",
       "296701                 David Baldacci      Macmillan Children's Books   \n",
       "296702                 David Baldacci                   Pan Macmillan   \n",
       "296703                 Isabel Allende                   HarperCollins   \n",
       "\n",
       "       Published Date                                        Description  \\\n",
       "0          2003-01-01  Offers tips on identifying, collecting, and ca...   \n",
       "1                1999  A remarkable array of accessible and affordabl...   \n",
       "2          2004-11-15  Dennis Prince teams up with antique and collec...   \n",
       "3          2012-08-28  Written for both beginners and experienced col...   \n",
       "4             1995-08  The singular resource that contains contact in...   \n",
       "...               ...                                                ...   \n",
       "296699     2017-05-30  The inspiration for the Netflix original serie...   \n",
       "296700     2012-02-02  We know you are here, our brothers and sisters...   \n",
       "296701     2015-09-01  Vega Jane was always told no one could leave t...   \n",
       "296702           2015  Vega Jane was always told no one could leave t...   \n",
       "296703     2021-01-05  Alexander Cold, his grandmother Kate, and his ...   \n",
       "\n",
       "                     Categories  Page Count  Average Rating  Ratings Count  \\\n",
       "0       Antiques & Collectibles       660.0        4.188379              0   \n",
       "1                          Pets         0.0        4.188379              0   \n",
       "2          Business & Economics       257.0        4.188379              0   \n",
       "3       Antiques & Collectibles       254.0        4.188379              0   \n",
       "4       Antiques & Collectibles       526.0        4.188379              0   \n",
       "...                         ...         ...             ...            ...   \n",
       "296699      Young Adult Fiction       432.0        4.188379              0   \n",
       "296700                  Fiction       315.0        4.500000              3   \n",
       "296701         Juvenile Fiction       390.0        4.188379              0   \n",
       "296702         Juvenile Fiction       481.0        4.188379              0   \n",
       "296703      Young Adult Fiction       328.0        4.188379              0   \n",
       "\n",
       "       Language  \n",
       "0            en  \n",
       "1            en  \n",
       "2            en  \n",
       "3            en  \n",
       "4            en  \n",
       "...         ...  \n",
       "296699       en  \n",
       "296700       en  \n",
       "296701       en  \n",
       "296702       en  \n",
       "296703       en  \n",
       "\n",
       "[296704 rows x 11 columns]"
      ]
     },
     "execution_count": 6,
     "metadata": {},
     "output_type": "execute_result"
    }
   ],
   "source": [
    "df1"
   ]
  },
  {
   "cell_type": "code",
   "execution_count": null,
   "metadata": {},
   "outputs": [],
   "source": []
  },
  {
   "cell_type": "code",
   "execution_count": 7,
   "metadata": {},
   "outputs": [],
   "source": [
    "df1['Description']=df1['Description'].apply(lambda x: re.sub(r'^a-zA-Z0-9 .','',re.sub(r'<[^>]+>','',x)))\n"
   ]
  },
  {
   "cell_type": "code",
   "execution_count": 8,
   "metadata": {},
   "outputs": [],
   "source": [
    "df1.to_csv('google_books_dataset.csv',index=False)"
   ]
  },
  {
   "cell_type": "code",
   "execution_count": null,
   "metadata": {},
   "outputs": [],
   "source": []
  }
 ],
 "metadata": {
  "kernelspec": {
   "display_name": "base",
   "language": "python",
   "name": "python3"
  },
  "language_info": {
   "codemirror_mode": {
    "name": "ipython",
    "version": 3
   },
   "file_extension": ".py",
   "mimetype": "text/x-python",
   "name": "python",
   "nbconvert_exporter": "python",
   "pygments_lexer": "ipython3",
   "version": "3.12.7"
  }
 },
 "nbformat": 4,
 "nbformat_minor": 2
}
